{
 "cells": [
  {
   "cell_type": "code",
   "execution_count": 1,
   "id": "8434b2e0",
   "metadata": {},
   "outputs": [
    {
     "data": {
      "image/png": "[encoded data removed]",
      "text/plain": [
       "<Figure size 432x288 with 1 Axes>"
      ]
     },
     "metadata": {
      "needs_background": "light"
     },
     "output_type": "display_data"
    }
   ],
   "source": [
    "import numpy as np\n",
    "import matplotlib.pyplot as plt\n",
    "from sklearn.datasets import make_regression\n",
    "\n",
    "X,y = make_regression(n_samples=200, n_features=1,\n",
    "                     bias=5.0,noise=5.0,random_state=123)\n",
    "\n",
    "y = np.expand_dims(y,axis=1)\n",
    "\n",
    "plt.scatter(X,y)\n",
    "plt.show()"
   ]
  },
  {
   "cell_type": "code",
   "execution_count": 2,
   "id": "49dc193b",
   "metadata": {},
   "outputs": [
    {
     "name": "stdout",
     "output_type": "stream",
     "text": [
      "(160, 1) (160, 1)\n",
      "(40, 1) (40, 1)\n"
     ]
    }
   ],
   "source": [
    "from sklearn.model_selection import train_test_split\n",
    "x_train, x_test, y_train, y_test = train_test_split(X,y,\n",
    "                                                   test_size=0.2,\n",
    "                                                   shuffle=True,\n",
    "                                                   random_state=123)\n",
    "\n",
    "print(x_train.shape, y_train.shape)\n",
    "print(x_test.shape, y_test.shape)"
   ]
  },
  {
   "cell_type": "code",
   "execution_count": 3,
   "id": "9860e7f7",
   "metadata": {},
   "outputs": [],
   "source": [
    "import tensorflow as tf\n",
    "from tensorflow import keras\n",
    "from tensorflow.keras import models, layers, optimizers, utils"
   ]
  },
  {
   "cell_type": "code",
   "execution_count": 4,
   "id": "cd00a177",
   "metadata": {},
   "outputs": [
    {
     "name": "stdout",
     "output_type": "stream",
     "text": [
      "Model: \"sequential\"\n",
      "_________________________________________________________________\n",
      "Layer (type)                 Output Shape              Param #   \n",
      "=================================================================\n",
      "dense (Dense)                (None, 1)                 2         \n",
      "=================================================================\n",
      "Total params: 2\n",
      "Trainable params: 2\n",
      "Non-trainable params: 0\n",
      "_________________________________________________________________\n"
     ]
    }
   ],
   "source": [
    "model = keras.Sequential()\n",
    "model.add(layers.Dense(1,activation='linear',input_shape=(1,)))\n",
    "model.summary()"
   ]
  },
  {
   "cell_type": "code",
   "execution_count": 5,
   "id": "059e8c3d",
   "metadata": {
    "scrolled": true
   },
   "outputs": [
    {
     "data": {
      "image/png": "[encoded data removed]",
      "text/plain": [
       "<IPython.core.display.Image object>"
      ]
     },
     "execution_count": 5,
     "metadata": {},
     "output_type": "execute_result"
    }
   ],
   "source": [
    "utils.plot_model(model)"
   ]
  },
  {
   "cell_type": "code",
   "execution_count": 18,
   "id": "d5691917",
   "metadata": {},
   "outputs": [
    {
     "name": "stdout",
     "output_type": "stream",
     "text": [
      "Epoch 1/40\n",
      "5/5 [==============================] - 0s 2ms/step - loss: 20.6142 - mae: 3.5836 - mse: 20.6142\n",
      "Epoch 2/40\n",
      "5/5 [==============================] - 0s 2ms/step - loss: 20.6297 - mae: 3.5867 - mse: 20.6297\n",
      "Epoch 3/40\n",
      "5/5 [==============================] - 0s 2ms/step - loss: 20.6201 - mae: 3.5842 - mse: 20.6201\n",
      "Epoch 4/40\n",
      "5/5 [==============================] - 0s 2ms/step - loss: 20.6123 - mae: 3.5834 - mse: 20.6123\n",
      "Epoch 5/40\n",
      "5/5 [==============================] - 0s 2ms/step - loss: 20.6128 - mae: 3.5831 - mse: 20.6128\n",
      "Epoch 6/40\n",
      "5/5 [==============================] - 0s 2ms/step - loss: 20.6106 - mae: 3.5827 - mse: 20.6106\n",
      "Epoch 7/40\n",
      "5/5 [==============================] - 0s 1ms/step - loss: 20.6161 - mae: 3.5825 - mse: 20.6161\n",
      "Epoch 8/40\n",
      "5/5 [==============================] - 0s 2ms/step - loss: 20.6266 - mae: 3.5830 - mse: 20.6266\n",
      "Epoch 9/40\n",
      "5/5 [==============================] - 0s 4ms/step - loss: 20.6242 - mae: 3.5835 - mse: 20.6242\n",
      "Epoch 10/40\n",
      "5/5 [==============================] - 0s 2ms/step - loss: 20.6218 - mae: 3.5822 - mse: 20.6218\n",
      "Epoch 11/40\n",
      "5/5 [==============================] - 0s 2ms/step - loss: 20.6144 - mae: 3.5837 - mse: 20.6144\n",
      "Epoch 12/40\n",
      "5/5 [==============================] - 0s 2ms/step - loss: 20.6127 - mae: 3.5834 - mse: 20.6127\n",
      "Epoch 13/40\n",
      "5/5 [==============================] - 0s 2ms/step - loss: 20.6125 - mae: 3.5835 - mse: 20.6125\n",
      "Epoch 14/40\n",
      "5/5 [==============================] - 0s 2ms/step - loss: 20.6355 - mae: 3.5838 - mse: 20.6355\n",
      "Epoch 15/40\n",
      "5/5 [==============================] - 0s 2ms/step - loss: 20.6124 - mae: 3.5839 - mse: 20.6124\n",
      "Epoch 16/40\n",
      "5/5 [==============================] - 0s 5ms/step - loss: 20.6127 - mae: 3.5832 - mse: 20.6127\n",
      "Epoch 17/40\n",
      "5/5 [==============================] - 0s 2ms/step - loss: 20.6358 - mae: 3.5858 - mse: 20.6358\n",
      "Epoch 18/40\n",
      "5/5 [==============================] - 0s 2ms/step - loss: 20.6158 - mae: 3.5847 - mse: 20.6158\n",
      "Epoch 19/40\n",
      "5/5 [==============================] - 0s 2ms/step - loss: 20.6077 - mae: 3.5829 - mse: 20.6077\n",
      "Epoch 20/40\n",
      "5/5 [==============================] - 0s 2ms/step - loss: 20.6135 - mae: 3.5831 - mse: 20.6135\n",
      "Epoch 21/40\n",
      "5/5 [==============================] - 0s 2ms/step - loss: 20.6200 - mae: 3.5838 - mse: 20.6200\n",
      "Epoch 22/40\n",
      "5/5 [==============================] - 0s 2ms/step - loss: 20.6650 - mae: 3.5895 - mse: 20.6650\n",
      "Epoch 23/40\n",
      "5/5 [==============================] - 0s 2ms/step - loss: 20.6307 - mae: 3.5850 - mse: 20.6307\n",
      "Epoch 24/40\n",
      "5/5 [==============================] - 0s 2ms/step - loss: 20.6381 - mae: 3.5857 - mse: 20.6381\n",
      "Epoch 25/40\n",
      "5/5 [==============================] - 0s 2ms/step - loss: 20.6041 - mae: 3.5819 - mse: 20.6041\n",
      "Epoch 26/40\n",
      "5/5 [==============================] - 0s 2ms/step - loss: 20.6147 - mae: 3.5842 - mse: 20.6147\n",
      "Epoch 27/40\n",
      "5/5 [==============================] - 0s 2ms/step - loss: 20.6297 - mae: 3.5859 - mse: 20.6297\n",
      "Epoch 28/40\n",
      "5/5 [==============================] - 0s 2ms/step - loss: 20.6430 - mae: 3.5851 - mse: 20.6430\n",
      "Epoch 29/40\n",
      "5/5 [==============================] - 0s 1ms/step - loss: 20.6093 - mae: 3.5834 - mse: 20.6093\n",
      "Epoch 30/40\n",
      "5/5 [==============================] - 0s 2ms/step - loss: 20.6249 - mae: 3.5837 - mse: 20.6249\n",
      "Epoch 31/40\n",
      "5/5 [==============================] - 0s 5ms/step - loss: 20.6244 - mae: 3.5826 - mse: 20.6244\n",
      "Epoch 32/40\n",
      "5/5 [==============================] - 0s 2ms/step - loss: 20.6209 - mae: 3.5835 - mse: 20.6209\n",
      "Epoch 33/40\n",
      "5/5 [==============================] - 0s 2ms/step - loss: 20.6105 - mae: 3.5816 - mse: 20.6105\n",
      "Epoch 34/40\n",
      "5/5 [==============================] - 0s 3ms/step - loss: 20.6244 - mae: 3.5837 - mse: 20.6244\n",
      "Epoch 35/40\n",
      "5/5 [==============================] - 0s 1ms/step - loss: 20.6332 - mae: 3.5862 - mse: 20.6332\n",
      "Epoch 36/40\n",
      "5/5 [==============================] - 0s 2ms/step - loss: 20.6123 - mae: 3.5836 - mse: 20.6123\n",
      "Epoch 37/40\n",
      "5/5 [==============================] - 0s 2ms/step - loss: 20.6250 - mae: 3.5864 - mse: 20.6250\n",
      "Epoch 38/40\n",
      "5/5 [==============================] - 0s 3ms/step - loss: 20.6163 - mae: 3.5844 - mse: 20.6163\n",
      "Epoch 39/40\n",
      "5/5 [==============================] - 0s 2ms/step - loss: 20.6111 - mae: 3.5830 - mse: 20.6111\n",
      "Epoch 40/40\n",
      "5/5 [==============================] - 0s 1ms/step - loss: 20.6133 - mae: 3.5833 - mse: 20.6133\n"
     ]
    }
   ],
   "source": [
    "optimizer = optimizers.SGD()\n",
    "model.compile(loss='mse',optimizer=optimizer,metrics=['mae','mse'])\n",
    "history = model.fit(x_train,y_train,epochs=40)"
   ]
  },
  {
   "cell_type": "code",
   "execution_count": 17,
   "id": "4c353b36",
   "metadata": {},
   "outputs": [
    {
     "data": {
      "image/png": "[encoded data removed]",
      "text/plain": [
       "<Figure size 432x288 with 1 Axes>"
      ]
     },
     "metadata": {
      "needs_background": "light"
     },
     "output_type": "display_data"
    }
   ],
   "source": [
    "plt.plot(history.history['mae'])\n",
    "plt.plot(history.history['mse'])\n",
    "plt.xlabel('Epoch')\n",
    "plt.legend(['mae', 'mse'])\n",
    "plt.show()"
   ]
  },
  {
   "cell_type": "code",
   "execution_count": 19,
   "id": "46d42512",
   "metadata": {},
   "outputs": [
    {
     "name": "stdout",
     "output_type": "stream",
     "text": [
      "2/2 [==============================] - 0s 4ms/step - loss: 21.4854 - mae: 3.9510 - mse: 21.4854\n"
     ]
    },
    {
     "data": {
      "text/plain": [
       "[21.485355377197266, 3.950995683670044, 21.485355377197266]"
      ]
     },
     "execution_count": 19,
     "metadata": {},
     "output_type": "execute_result"
    }
   ],
   "source": [
    "model.evaluate(x_test,y_test)"
   ]
  },
  {
   "cell_type": "code",
   "execution_count": 20,
   "id": "f57ed842",
   "metadata": {},
   "outputs": [
    {
     "data": {
      "image/png": "[encoded data removed]",
      "text/plain": [
       "<Figure size 432x288 with 1 Axes>"
      ]
     },
     "metadata": {
      "needs_background": "light"
     },
     "output_type": "display_data"
    }
   ],
   "source": [
    "result = model.predict(X)\n",
    "\n",
    "plt.scatter(X,y)\n",
    "plt.plot(X,result,'r')\n",
    "plt.show()"
   ]
  },
  {
   "cell_type": "code",
   "execution_count": 21,
   "id": "bb875409",
   "metadata": {},
   "outputs": [
    {
     "data": {
      "text/plain": [
       "[<keras.layers.core.Dense at 0x7f44d36a6670>]"
      ]
     },
     "execution_count": 21,
     "metadata": {},
     "output_type": "execute_result"
    }
   ],
   "source": [
    "model.layers"
   ]
  },
  {
   "cell_type": "code",
   "execution_count": 23,
   "id": "db876ede",
   "metadata": {},
   "outputs": [
    {
     "name": "stdout",
     "output_type": "stream",
     "text": [
      "dense\n",
      "dense\n"
     ]
    }
   ],
   "source": [
    "layer = model.layers[0]\n",
    "print(layer.name)\n",
    "layer = model.get_layer('dense')\n",
    "print(layer.name)"
   ]
  },
  {
   "cell_type": "code",
   "execution_count": 24,
   "id": "5ceb8bb8",
   "metadata": {},
   "outputs": [
    {
     "name": "stdout",
     "output_type": "stream",
     "text": [
      "[[23.151075]]\n",
      "[4.2329564]\n"
     ]
    }
   ],
   "source": [
    "weights, biases = layer.get_weights()\n",
    "print(weights)\n",
    "print(biases)"
   ]
  },
  {
   "cell_type": "code",
   "execution_count": 25,
   "id": "10540986",
   "metadata": {},
   "outputs": [
    {
     "data": {
      "image/png": "[encoded data removed]",
      "text/plain": [
       "<Figure size 432x288 with 1 Axes>"
      ]
     },
     "metadata": {
      "needs_background": "light"
     },
     "output_type": "display_data"
    }
   ],
   "source": [
    "plt.scatter(X,y)\n",
    "plt.plot(X,np.array(weights*X+biases),'r')\n",
    "plt.show()"
   ]
  }
 ],
 "metadata": {
  "kernelspec": {
   "display_name": "Python 3 (ipykernel)",
   "language": "python",
   "name": "python3"
  },
  "language_info": {
   "codemirror_mode": {
    "name": "ipython",
    "version": 3
   },
   "file_extension": ".py",
   "mimetype": "text/x-python",
   "name": "python",
   "nbconvert_exporter": "python",
   "pygments_lexer": "ipython3",
   "version": "3.9.7"
  }
 },
 "nbformat": 4,
 "nbformat_minor": 5
}
